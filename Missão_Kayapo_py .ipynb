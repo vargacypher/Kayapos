{
  "nbformat": 4,
  "nbformat_minor": 0,
  "metadata": {
    "colab": {
      "name": "Missão Kayapo.py",
      "provenance": [],
      "collapsed_sections": []
    },
    "kernelspec": {
      "name": "python3",
      "display_name": "Python 3"
    }
  },
  "cells": [
    {
      "cell_type": "code",
      "metadata": {
        "id": "5ulP83_gWu7h",
        "colab": {
          "resources": {
            "http://localhost:8080/nbextensions/google.colab/files.js": {
              "data": "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",
              "ok": true,
              "headers": [
                [
                  "content-type",
                  "application/javascript"
                ]
              ],
              "status": 200,
              "status_text": ""
            }
          },
          "base_uri": "https://localhost:8080/",
          "height": 72
        },
        "outputId": "4ce51aef-bf20-4898-f45b-1716c8b39060"
      },
      "source": [
        "#Upar arquivo para o google colab\r\n",
        "from google.colab import files\r\n",
        "uploaded = files.upload() "
      ],
      "execution_count": 2,
      "outputs": [
        {
          "output_type": "display_data",
          "data": {
            "text/html": [
              "\n",
              "     <input type=\"file\" id=\"files-d3b2b754-f50a-4be2-ae90-c17622caa124\" name=\"files[]\" multiple disabled\n",
              "        style=\"border:none\" />\n",
              "     <output id=\"result-d3b2b754-f50a-4be2-ae90-c17622caa124\">\n",
              "      Upload widget is only available when the cell has been executed in the\n",
              "      current browser session. Please rerun this cell to enable.\n",
              "      </output>\n",
              "      <script src=\"/nbextensions/google.colab/files.js\"></script> "
            ],
            "text/plain": [
              "<IPython.core.display.HTML object>"
            ]
          },
          "metadata": {
            "tags": []
          }
        },
        {
          "output_type": "stream",
          "text": [
            "Saving Cópia de Exames Projeto KAYAPÓ - Página1.csv to Cópia de Exames Projeto KAYAPÓ - Página1.csv\n"
          ],
          "name": "stdout"
        }
      ]
    },
    {
      "cell_type": "code",
      "metadata": {
        "id": "8zpOfUhAK2GG",
        "colab": {
          "base_uri": "https://localhost:8080/",
          "height": 419
        },
        "outputId": "d76d978f-9500-4e58-c60c-d28521747be8"
      },
      "source": [
        "import pandas as pd\r\n",
        "import io\r\n",
        "import numpy as np\r\n",
        "from matplotlib import pyplot as plt\r\n",
        "\r\n",
        "\r\n",
        "df = pd.read_csv(io.StringIO(uploaded['Cópia de Exames Projeto KAYAPÓ - Página1.csv'].decode('utf-8'))) #Lê o csv upado\r\n",
        "\r\n",
        "\r\n",
        "df[['capsulelot','exame','idade','begintime','result_igg','result_igm', 'sexo']]\r\n"
      ],
      "execution_count": 23,
      "outputs": [
        {
          "output_type": "execute_result",
          "data": {
            "text/html": [
              "<div>\n",
              "<style scoped>\n",
              "    .dataframe tbody tr th:only-of-type {\n",
              "        vertical-align: middle;\n",
              "    }\n",
              "\n",
              "    .dataframe tbody tr th {\n",
              "        vertical-align: top;\n",
              "    }\n",
              "\n",
              "    .dataframe thead th {\n",
              "        text-align: right;\n",
              "    }\n",
              "</style>\n",
              "<table border=\"1\" class=\"dataframe\">\n",
              "  <thead>\n",
              "    <tr style=\"text-align: right;\">\n",
              "      <th></th>\n",
              "      <th>capsulelot</th>\n",
              "      <th>exame</th>\n",
              "      <th>idade</th>\n",
              "      <th>begintime</th>\n",
              "      <th>result_igg</th>\n",
              "      <th>result_igm</th>\n",
              "      <th>sexo</th>\n",
              "    </tr>\n",
              "  </thead>\n",
              "  <tbody>\n",
              "    <tr>\n",
              "      <th>0</th>\n",
              "      <td>COVAL200727</td>\n",
              "      <td>COVID-19 IgG e IgM</td>\n",
              "      <td>67.0</td>\n",
              "      <td>2020-11-22 20:50:29.483</td>\n",
              "      <td>True</td>\n",
              "      <td>False</td>\n",
              "      <td>male</td>\n",
              "    </tr>\n",
              "    <tr>\n",
              "      <th>1</th>\n",
              "      <td>COVAL200727</td>\n",
              "      <td>COVID-19 IgG e IgM</td>\n",
              "      <td>27.0</td>\n",
              "      <td>2020-11-23 15:49:36.739</td>\n",
              "      <td>False</td>\n",
              "      <td>True</td>\n",
              "      <td>female</td>\n",
              "    </tr>\n",
              "    <tr>\n",
              "      <th>2</th>\n",
              "      <td>COVAL200727</td>\n",
              "      <td>COVID-19 IgG e IgM</td>\n",
              "      <td>25.0</td>\n",
              "      <td>2020-11-19 18:55:51.017</td>\n",
              "      <td>False</td>\n",
              "      <td>True</td>\n",
              "      <td>male</td>\n",
              "    </tr>\n",
              "    <tr>\n",
              "      <th>3</th>\n",
              "      <td>COVAL200727</td>\n",
              "      <td>COVID-19 IgG e IgM</td>\n",
              "      <td>23.0</td>\n",
              "      <td>2020-11-19 18:54:11.541</td>\n",
              "      <td>False</td>\n",
              "      <td>False</td>\n",
              "      <td>male</td>\n",
              "    </tr>\n",
              "    <tr>\n",
              "      <th>4</th>\n",
              "      <td>COVAL200727</td>\n",
              "      <td>COVID-19 IgG e IgM</td>\n",
              "      <td>37.0</td>\n",
              "      <td>2020-11-19 18:55:16.771</td>\n",
              "      <td>True</td>\n",
              "      <td>False</td>\n",
              "      <td>female</td>\n",
              "    </tr>\n",
              "    <tr>\n",
              "      <th>...</th>\n",
              "      <td>...</td>\n",
              "      <td>...</td>\n",
              "      <td>...</td>\n",
              "      <td>...</td>\n",
              "      <td>...</td>\n",
              "      <td>...</td>\n",
              "      <td>...</td>\n",
              "    </tr>\n",
              "    <tr>\n",
              "      <th>114</th>\n",
              "      <td>COVAL200727</td>\n",
              "      <td>COVID-19 IgG e IgM</td>\n",
              "      <td>10.0</td>\n",
              "      <td>2020-11-23 15:53:33.094</td>\n",
              "      <td>False</td>\n",
              "      <td>False</td>\n",
              "      <td>female</td>\n",
              "    </tr>\n",
              "    <tr>\n",
              "      <th>115</th>\n",
              "      <td>COVAL200727</td>\n",
              "      <td>COVID-19 IgG e IgM</td>\n",
              "      <td>54.0</td>\n",
              "      <td>2020-11-23 15:55:10.337</td>\n",
              "      <td>False</td>\n",
              "      <td>False</td>\n",
              "      <td>female</td>\n",
              "    </tr>\n",
              "    <tr>\n",
              "      <th>116</th>\n",
              "      <td>COVAL200727</td>\n",
              "      <td>COVID-19 IgG e IgM</td>\n",
              "      <td>66.0</td>\n",
              "      <td>2020-11-22 20:50:17.246</td>\n",
              "      <td>True</td>\n",
              "      <td>True</td>\n",
              "      <td>female</td>\n",
              "    </tr>\n",
              "    <tr>\n",
              "      <th>117</th>\n",
              "      <td>COVAL200727</td>\n",
              "      <td>COVID-19 IgG e IgM</td>\n",
              "      <td>13.0</td>\n",
              "      <td>2020-11-18 20:42:45.223</td>\n",
              "      <td>True</td>\n",
              "      <td>False</td>\n",
              "      <td>female</td>\n",
              "    </tr>\n",
              "    <tr>\n",
              "      <th>118</th>\n",
              "      <td>COVAL200727</td>\n",
              "      <td>COVID-19 IgG e IgM</td>\n",
              "      <td>34.0</td>\n",
              "      <td>2020-11-22 20:50:25.350</td>\n",
              "      <td>False</td>\n",
              "      <td>True</td>\n",
              "      <td>male</td>\n",
              "    </tr>\n",
              "  </tbody>\n",
              "</table>\n",
              "<p>119 rows × 7 columns</p>\n",
              "</div>"
            ],
            "text/plain": [
              "      capsulelot               exame  idade  ... result_igg  result_igm    sexo\n",
              "0    COVAL200727  COVID-19 IgG e IgM   67.0  ...       True       False    male\n",
              "1    COVAL200727  COVID-19 IgG e IgM   27.0  ...      False        True  female\n",
              "2    COVAL200727  COVID-19 IgG e IgM   25.0  ...      False        True    male\n",
              "3    COVAL200727  COVID-19 IgG e IgM   23.0  ...      False       False    male\n",
              "4    COVAL200727  COVID-19 IgG e IgM   37.0  ...       True       False  female\n",
              "..           ...                 ...    ...  ...        ...         ...     ...\n",
              "114  COVAL200727  COVID-19 IgG e IgM   10.0  ...      False       False  female\n",
              "115  COVAL200727  COVID-19 IgG e IgM   54.0  ...      False       False  female\n",
              "116  COVAL200727  COVID-19 IgG e IgM   66.0  ...       True        True  female\n",
              "117  COVAL200727  COVID-19 IgG e IgM   13.0  ...       True       False  female\n",
              "118  COVAL200727  COVID-19 IgG e IgM   34.0  ...      False        True    male\n",
              "\n",
              "[119 rows x 7 columns]"
            ]
          },
          "metadata": {
            "tags": []
          },
          "execution_count": 23
        }
      ]
    },
    {
      "cell_type": "code",
      "metadata": {
        "id": "K9bekleChyaj",
        "colab": {
          "base_uri": "https://localhost:8080/",
          "height": 297
        },
        "outputId": "4fef8e06-5738-4c59-ab58-12b7dd97a746"
      },
      "source": [
        "df.describe()"
      ],
      "execution_count": 3,
      "outputs": [
        {
          "output_type": "execute_result",
          "data": {
            "text/html": [
              "<div>\n",
              "<style scoped>\n",
              "    .dataframe tbody tr th:only-of-type {\n",
              "        vertical-align: middle;\n",
              "    }\n",
              "\n",
              "    .dataframe tbody tr th {\n",
              "        vertical-align: top;\n",
              "    }\n",
              "\n",
              "    .dataframe thead th {\n",
              "        text-align: right;\n",
              "    }\n",
              "</style>\n",
              "<table border=\"1\" class=\"dataframe\">\n",
              "  <thead>\n",
              "    <tr style=\"text-align: right;\">\n",
              "      <th></th>\n",
              "      <th>idade</th>\n",
              "    </tr>\n",
              "  </thead>\n",
              "  <tbody>\n",
              "    <tr>\n",
              "      <th>count</th>\n",
              "      <td>119.000000</td>\n",
              "    </tr>\n",
              "    <tr>\n",
              "      <th>mean</th>\n",
              "      <td>30.487395</td>\n",
              "    </tr>\n",
              "    <tr>\n",
              "      <th>std</th>\n",
              "      <td>19.740205</td>\n",
              "    </tr>\n",
              "    <tr>\n",
              "      <th>min</th>\n",
              "      <td>0.000000</td>\n",
              "    </tr>\n",
              "    <tr>\n",
              "      <th>25%</th>\n",
              "      <td>14.500000</td>\n",
              "    </tr>\n",
              "    <tr>\n",
              "      <th>50%</th>\n",
              "      <td>29.000000</td>\n",
              "    </tr>\n",
              "    <tr>\n",
              "      <th>75%</th>\n",
              "      <td>41.000000</td>\n",
              "    </tr>\n",
              "    <tr>\n",
              "      <th>max</th>\n",
              "      <td>80.000000</td>\n",
              "    </tr>\n",
              "  </tbody>\n",
              "</table>\n",
              "</div>"
            ],
            "text/plain": [
              "            idade\n",
              "count  119.000000\n",
              "mean    30.487395\n",
              "std     19.740205\n",
              "min      0.000000\n",
              "25%     14.500000\n",
              "50%     29.000000\n",
              "75%     41.000000\n",
              "max     80.000000"
            ]
          },
          "metadata": {
            "tags": []
          },
          "execution_count": 3
        }
      ]
    },
    {
      "cell_type": "code",
      "metadata": {
        "id": "NmlckYfOd4gD"
      },
      "source": [
        "-Sintax para filtrar campos--\r\n",
        "\r\n",
        "\r\n",
        "#df_name = df.apply(lambda x: True if x['coluna'] == 'campo desejado' else False, axis = 1) #filtra a coluna name se o valor dela for igual a Ronka  \r\n",
        "#ronk = len(df_name[df_name == True].index)\r\n",
        "\r\n",
        "#df_igm_reg = df.apply(lambda x: True if x['result_igm'] == True  else False, axis = 1) #filtra a coluna result_igm se o valor dela for igual a verdadeiro\r\n",
        "#total_igm_reg = len(df_igm_reg[df_igm_reg == True].index)"
      ],
      "execution_count": null,
      "outputs": []
    },
    {
      "cell_type": "code",
      "metadata": {
        "id": "CsSaD0jSYjPO",
        "colab": {
          "base_uri": "https://localhost:8080/"
        },
        "outputId": "f8eff570-6dc9-4280-e235-a40452a00212"
      },
      "source": [
        "\r\n",
        "#Total de exames\r\n",
        "total_exames = df.shape[0] #Count rows\r\n",
        "\r\n",
        "#Total Reagentes\r\n",
        "df_reagentes = df.apply(lambda x: True if x['result_igm'] == True or x['result_igg'] == True else False, axis = 1) #filtra os resultados IgG ou IgM reagentes\r\n",
        "total_reagentes = len(df_reagentes[df_reagentes == True].index) # Conta os idex que estão no range da função apply\r\n",
        "\r\n",
        "#Total Não Reagentes \r\n",
        "df_N_reagentes = df.apply(lambda x: True if x['result_igm'] == False and x['result_igg'] == False else False, axis = 1)\r\n",
        "total_N_reagentes = len(df_N_reagentes[df_N_reagentes == True].index)\r\n",
        "\r\n",
        "\r\n",
        "print(' Total de exames: ',total_exames,'\\n Total exames reagentes: ',total_reagentes, '\\n Total exames não reagentes:', total_N_reagentes) #\\n quebra de linha"
      ],
      "execution_count": 29,
      "outputs": [
        {
          "output_type": "stream",
          "text": [
            " Total de exames:  119 \n",
            " Total exames reagentes:  88 \n",
            " Total exames não reagentes: 31\n"
          ],
          "name": "stdout"
        }
      ]
    },
    {
      "cell_type": "code",
      "metadata": {
        "id": "TgpuAsj4bQPN",
        "colab": {
          "base_uri": "https://localhost:8080/"
        },
        "outputId": "22db7872-847f-4a61-dd7a-5a87a368150f"
      },
      "source": [
        "#Mulheres Reagentes por Imunoblobulina\r\n",
        "df_igm_reg_sexF = df.apply(lambda x: True if x['sexo'] == 'female' and (x['result_igm'] == True and x['result_igg'] == False) else False, axis = 1)\r\n",
        "total_sexF_igm_reg = len(df_igm_reg_sexF[df_igm_reg_sexF == True].index)\r\n",
        "\r\n",
        "df_igg_reg_sexF = df.apply(lambda x: True if x['sexo'] == 'female' and (x['result_igm'] == False and x['result_igg'] == True) else False, axis = 1) \r\n",
        "total_sexF_igg_reg = len(df_igg_reg_sexF[df_igg_reg_sexF == True].index)\r\n",
        "\r\n",
        "df_reg_gm_sexF = df.apply(lambda x: True if x['sexo'] == 'female' and (x['result_igm'] == True and x['result_igg'] == True) else False, axis = 1) \r\n",
        "total_reg_gm_sexF = len(df_reg_gm_sexF[df_reg_gm_sexF == True].index)\r\n",
        "\r\n",
        "#Homens Reagentes por Imunoblobulina\r\n",
        "df_igm_reg_sexM = df.apply(lambda x: True if x['sexo'] == 'male' and (x['result_igm'] == True and x['result_igg'] == False) else False, axis = 1) \r\n",
        "total_sexM_igm_reg = len(df_igm_reg_sexM[df_igm_reg_sexM == True].index)\r\n",
        "\r\n",
        "df_igg_reg_sexM = df.apply(lambda x: True if x['sexo'] == 'male' and (x['result_igm'] == False and x['result_igg'] == True) else False, axis = 1) \r\n",
        "total_sexM_igg_reg = len(df_igg_reg_sexM[df_igg_reg_sexM == True].index)\r\n",
        "\r\n",
        "df_reg_gm_sexM = df.apply(lambda x: True if x['sexo'] == 'male' and (x['result_igm'] == True and x['result_igg'] == True) else False, axis = 1) \r\n",
        "total_reg_gm_sexM = len(df_reg_gm_sexM[df_reg_gm_sexM == True].index)\r\n",
        "\r\n",
        "\r\n",
        "print(\"Total reagentes IgM Mulheres:\", total_sexF_igm_reg, '\\nTotal reagentes IgM Homens:',total_sexM_igm_reg,'\\nTotal Ambos reagentes: ',total_reg_gm_sexF, '\\n')\r\n",
        "\r\n",
        "print(\"Total reagentes IgG Mulheres:\", total_sexF_igg_reg, '\\nTotal reagentes IgG Homens:',total_sexM_igg_reg,'\\nTotal Ambos reagentes: ',total_reg_gm_sexM, '\\n' )"
      ],
      "execution_count": 36,
      "outputs": [
        {
          "output_type": "stream",
          "text": [
            "Total reagentes IgM Mulheres: 19 \n",
            "Total reagentes IgM Homens: 21 \n",
            "Total ambos reagentes:  19 \n",
            "\n",
            "Total reagentes IgG Mulheres: 13 \n",
            "Total reagentes IgG Homens: 5 \n",
            "Total ambos reagentes:  11 \n",
            "\n"
          ],
          "name": "stdout"
        }
      ]
    },
    {
      "cell_type": "code",
      "metadata": {
        "id": "bYBEpyd_DcSH",
        "colab": {
          "base_uri": "https://localhost:8080/"
        },
        "outputId": "e8150211-b5a0-4501-dec3-b539941e9667"
      },
      "source": [
        "#Mulheres Reagentes\r\n",
        "df_reg_sexF = df.apply(lambda x: True if x['sexo'] == 'female' and (x['result_igm'] == True or x['result_igg'] == True) else False, axis = 1) \r\n",
        "total_reg_sexF = len(df_reg_sexF[df_reg_sexF == True].index)\r\n",
        "\r\n",
        "#Homens Reagentes \r\n",
        "df_reg_sexM = df.apply(lambda x: True if x['sexo'] == 'male' and (x['result_igm'] == True or x['result_igg'] == True) else False, axis = 1) \r\n",
        "total_reg_sexM = len(df_reg_sexM[df_reg_sexM == True].index)\r\n",
        "\r\n",
        "#Mulheres Não Reagentes\r\n",
        "df_neg_sexF = df.apply(lambda x: True if x['sexo'] == 'female' and (x['result_igm'] == False and x['result_igg'] == False) else False, axis = 1) \r\n",
        "total_neg_sexF = len(df_neg_sexF[df_neg_sexF == True].index)\r\n",
        "\r\n",
        "#Homens Não Reagentes \r\n",
        "df_neg_sexM = df.apply(lambda x: True if x['sexo'] == 'male' and (x['result_igm'] == False and  x['result_igg'] == False) else False, axis = 1) \r\n",
        "total_neg_sexM = len(df_neg_sexM[df_neg_sexM == True].index)\r\n",
        "\r\n",
        "print(\"Total Mulheres Regentes:\", total_reg_sexF)\r\n",
        "print(\"Total Mulheres Não Regentes:\", total_neg_sexF)\r\n",
        "\r\n",
        "print(\"\\nTotal Homens  Regentes:\", total_reg_sexM)\r\n",
        "print(\"Total Homens Não Regentes:\", total_neg_sexM)"
      ],
      "execution_count": 38,
      "outputs": [
        {
          "output_type": "stream",
          "text": [
            "Total Mulheres Regentes: 51\n",
            "Total Mulheres Não Regentes: 21\n",
            "\n",
            "Total Homens  Regentes: 37\n",
            "Total Homens Não Regentes: 10\n"
          ],
          "name": "stdout"
        }
      ]
    },
    {
      "cell_type": "code",
      "metadata": {
        "colab": {
          "base_uri": "https://localhost:8080/",
          "height": 281
        },
        "id": "r-3sd2nvFW9N",
        "outputId": "9d6dce65-946e-474d-f7d6-1ec4cade9ec6"
      },
      "source": [
        "#Plotando gráfico Reagentes ( Eixo_X, Eixo_Y)\r\n",
        "\r\n",
        "x = [\"HOMENS\", \"MULHERES\"] #nomeia os eixos x \r\n",
        "y= [total_reg_sexM, total_reg_sexF] #Atribui valores ao eixo y\r\n",
        "\r\n",
        "plt.bar(x,y)\r\n",
        "plt.title(\"Reagentes por Sexo\")\r\n",
        "plt.show()"
      ],
      "execution_count": 39,
      "outputs": [
        {
          "output_type": "display_data",
          "data": {
            "image/png": "[encoded data removed]",
            "text/plain": [
              "<Figure size 432x288 with 1 Axes>"
            ]
          },
          "metadata": {
            "tags": [],
            "needs_background": "light"
          }
        }
      ]
    },
    {
      "cell_type": "code",
      "metadata": {
        "colab": {
          "base_uri": "https://localhost:8080/",
          "height": 281
        },
        "id": "-dPZPrhxFW3O",
        "outputId": "79deb183-14eb-4f7d-9ebb-3389f3c8f5c7"
      },
      "source": [
        "#Plotando gráfico NÃO Reagentes\r\n",
        "\r\n",
        "x = [\"HOMENS\", \"MULHERES\"] #nomeia os eixos x \r\n",
        "y= [total_neg_sexM, total_neg_sexF] #Atribui valores ao eixo y\r\n",
        "\r\n",
        "plt.bar(x,y)\r\n",
        "plt.title(\"Não Reagentes por Sexo\")\r\n",
        "plt.show()"
      ],
      "execution_count": 40,
      "outputs": [
        {
          "output_type": "display_data",
          "data": {
            "image/png": "[encoded data removed]",
            "text/plain": [
              "<Figure size 432x288 with 1 Axes>"
            ]
          },
          "metadata": {
            "tags": [],
            "needs_background": "light"
          }
        }
      ]
    },
    {
      "cell_type": "code",
      "metadata": {
        "colab": {
          "base_uri": "https://localhost:8080/",
          "height": 281
        },
        "id": "kDMH29nqdVBV",
        "outputId": "d168621e-3eb8-4509-d407-6c91a30c8d13"
      },
      "source": [
        "#Gráfico Não reagentes vs Reagentes\r\n",
        "\r\n",
        "x = [\"Não reagentes\", \"Reagentes\"]\r\n",
        "y= [total_N_reagentes, total_reagentes] \r\n",
        "\r\n",
        "plt.barh(x,y)\r\n",
        "plt.title(\"Não reagentes vs Reagentes\")\r\n",
        "plt.show()"
      ],
      "execution_count": 41,
      "outputs": [
        {
          "output_type": "display_data",
          "data": {
            "image/png": "[encoded data removed]",
            "text/plain": [
              "<Figure size 432x288 with 1 Axes>"
            ]
          },
          "metadata": {
            "tags": [],
            "needs_background": "light"
          }
        }
      ]
    },
    {
      "cell_type": "code",
      "metadata": {
        "colab": {
          "base_uri": "https://localhost:8080/"
        },
        "id": "6oOUL-C4v5ji",
        "outputId": "f382eca8-a365-4ca3-8eb0-79601cb5c5fe"
      },
      "source": [
        "#Mulheres Jovens Reagentes\r\n",
        "reg_sexF_Jovens = df.apply(lambda x: True if x['sexo'] == 'female' and (x['result_igm'] == True or x['result_igg'] == True) and (x['idade'] >= 0 and x['idade'] <= 19 ) else False, axis = 1) \r\n",
        "total_reg_sexF_Jovens = len(reg_sexF_Jovens[reg_sexF_Jovens == True].index)\r\n",
        "\r\n",
        "#Mulheres Adultas Reagentes\r\n",
        "reg_sexF_Adult = df.apply(lambda x: True if x['sexo'] == 'female' and (x['result_igm'] == True or x['result_igg'] == True) and (x['idade'] > 19 and x['idade'] < 60 ) else False, axis = 1) \r\n",
        "total_reg_sexF_Adult = len(reg_sexF_Adult[reg_sexF_Adult == True].index)\r\n",
        "\r\n",
        "#Mulheres Idosas Reagentes\r\n",
        "reg_sexF_Idosa = df.apply(lambda x: True if x['sexo'] == 'female' and (x['result_igm'] == True or x['result_igg'] == True) and (x['idade'] > 59  ) else False, axis = 1) \r\n",
        "total_reg_sexF_Idosa = len(reg_sexF_Idosa[reg_sexF_Idosa == True].index)\r\n",
        "\r\n",
        "\r\n",
        "print('Mulheres Jovens Reagentes: ',total_reg_sexF_Jovens, '\\nMulheres Adultas Reagentes: ', total_reg_sexF_Adult, '\\nMulheres Idosas Reagentes: ' , total_reg_sexF_Idosa)\r\n",
        "\r\n"
      ],
      "execution_count": null,
      "outputs": [
        {
          "output_type": "stream",
          "text": [
            "Mulheres Jovens Reagentes:  14 \n",
            "Mulheres Adultas Reagentes:  31 \n",
            "Mulheres Idosas Reagentes:  6\n"
          ],
          "name": "stdout"
        }
      ]
    },
    {
      "cell_type": "code",
      "metadata": {
        "colab": {
          "base_uri": "https://localhost:8080/",
          "height": 281
        },
        "id": "VfeIaQOW20lC",
        "outputId": "becf63fd-5c37-4121-ecba-3392bc8525f9"
      },
      "source": [
        "x = [\"Jovens\", \"Adultos\", \"Idosos\"]\r\n",
        "y = [total_reg_sexF_Jovens, total_reg_sexF_Adult, total_reg_sexF_Jovens]\r\n",
        "\r\n",
        "plt.bar(x,y)\r\n",
        "plt.title(\"Reagentes Sexo feminino\")\r\n",
        "plt.show()"
      ],
      "execution_count": null,
      "outputs": [
        {
          "output_type": "display_data",
          "data": {
            "image/png": "[encoded data removed]",
            "text/plain": [
              "<Figure size 432x288 with 1 Axes>"
            ]
          },
          "metadata": {
            "tags": [],
            "needs_background": "light"
          }
        }
      ]
    },
    {
      "cell_type": "code",
      "metadata": {
        "colab": {
          "base_uri": "https://localhost:8080/"
        },
        "id": "hYG3Qlej3RRr",
        "outputId": "657c0aa0-e954-4b8f-e980-538a2442bf6d"
      },
      "source": [
        "#Homens Jovens Reagentes\r\n",
        "reg_sexM_Jovens = df.apply(lambda x: True if x['sexo'] == 'male' and (x['result_igm'] == True or x['result_igg'] == True) and (x['idade'] < 20 ) else False, axis = 1) \r\n",
        "total_reg_sexM_Jovens = len(reg_sexM_Jovens[reg_sexM_Jovens == True].index)\r\n",
        "\r\n",
        "#Homens Adultas Reagentes\r\n",
        "reg_sexM_Adult = df.apply(lambda x: True if x['sexo'] == 'male' and (x['result_igm'] == True or x['result_igg'] == True) and (x['idade'] > 19 and x['idade'] < 60 ) else False, axis = 1) \r\n",
        "total_reg_sexM_Adult = len(reg_sexM_Adult[reg_sexM_Adult == True].index)\r\n",
        "\r\n",
        "#Homens Idosas Reagentes\r\n",
        "reg_sexM_Idoso = df.apply(lambda x: True if x['sexo'] == 'male' and (x['result_igm'] == True or x['result_igg'] == True) and (x['idade'] > 59  ) else False, axis = 1) \r\n",
        "total_reg_sexM_Idoso = len(reg_sexM_Idoso[reg_sexM_Idoso == True].index)\r\n",
        "\r\n",
        "\r\n",
        "print('Homens Jovens Reagentes: ',total_reg_sexM_Jovens, '\\nHomens Adultos Reagentes: ', total_reg_sexM_Adult, '\\nHomens Idosos Reagentes: ' , total_reg_sexM_Idoso)\r\n"
      ],
      "execution_count": null,
      "outputs": [
        {
          "output_type": "stream",
          "text": [
            "Homens Jovens Reagentes:  12 \n",
            "Homens Adultos Reagentes:  21 \n",
            "Homens Idosos Reagentes:  4\n"
          ],
          "name": "stdout"
        }
      ]
    },
    {
      "cell_type": "code",
      "metadata": {
        "colab": {
          "base_uri": "https://localhost:8080/",
          "height": 281
        },
        "id": "u_NzJsto4eVL",
        "outputId": "526f4aa9-15c2-4e25-f491-ead03b99f4f9"
      },
      "source": [
        "x = [\"Jovens\", \"Adultos\", \"Idosos\"]\r\n",
        "y = [total_reg_sexM_Jovens, total_reg_sexM_Adult, total_reg_sexM_Jovens]\r\n",
        "\r\n",
        "plt.bar(x,y)\r\n",
        "plt.title(\"Reagentes Sexo Masculino\")\r\n",
        "plt.show()"
      ],
      "execution_count": null,
      "outputs": [
        {
          "output_type": "display_data",
          "data": {
            "image/png": "[encoded data removed]",
            "text/plain": [
              "<Figure size 432x288 with 1 Axes>"
            ]
          },
          "metadata": {
            "tags": [],
            "needs_background": "light"
          }
        }
      ]
    },
    {
      "cell_type": "code",
      "metadata": {
        "colab": {
          "base_uri": "https://localhost:8080/"
        },
        "id": "1bq3wE1b_5VE",
        "outputId": "2f981b9f-86c1-40c5-e293-bf56653b4b2d"
      },
      "source": [
        "PorcentM = total_reg_sexM/total_exames*100\r\n",
        "PorcentF = total_reg_sexF/total_exames*100\r\n",
        "PorcentNeg = total_N_reagentes /total_exames*100\r\n",
        "\r\n",
        "print('\\n-Reagentes Masculinos(%):',PorcentM,'\\n-Reagentes Feminino(%):',PorcentF,'\\n-Não Reagentes(%):',PorcentNeg)"
      ],
      "execution_count": null,
      "outputs": [
        {
          "output_type": "stream",
          "text": [
            "\n",
            "-Reagentes Masculinos(%): 31.092436974789916 \n",
            "-Reagentes Feminino(%): 42.857142857142854 \n",
            "-Não Reagentes(%): 26.05042016806723\n"
          ],
          "name": "stdout"
        }
      ]
    },
    {
      "cell_type": "code",
      "metadata": {
        "colab": {
          "base_uri": "https://localhost:8080/",
          "height": 281
        },
        "id": "23UbtFdGBAQ0",
        "outputId": "2447cc66-1225-42d9-8518-1f9ea4e35e3a"
      },
      "source": [
        "x = [\"Reagentes Masculino \", \"Reagentes Feminino \", \"Não reagntes \"]\r\n",
        "y = [PorcentM, PorcentF, PorcentNeg]\r\n",
        "\r\n",
        "plt.barh(x,y)\r\n",
        "plt.title(\"Reagentes vs Não Reagentes %\")\r\n",
        "plt.show()\r\n"
      ],
      "execution_count": null,
      "outputs": [
        {
          "output_type": "display_data",
          "data": {
            "image/png": "[encoded data removed]",
            "text/plain": [
              "<Figure size 432x288 with 1 Axes>"
            ]
          },
          "metadata": {
            "tags": [],
            "needs_background": "light"
          }
        }
      ]
    },
    {
      "cell_type": "code",
      "metadata": {
        "id": "ucXv9zv0CgU0"
      },
      "source": [
        ""
      ],
      "execution_count": null,
      "outputs": []
    }
  ]
}